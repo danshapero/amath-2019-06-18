{
 "cells": [
  {
   "cell_type": "code",
   "execution_count": null,
   "metadata": {},
   "outputs": [],
   "source": [
    "%matplotlib inline\n",
    "import matplotlib.pyplot as plt\n",
    "import firedrake\n",
    "from firedrake import inner, grad, dx, sqrt, perp, min_value, max_value"
   ]
  },
  {
   "cell_type": "code",
   "execution_count": null,
   "metadata": {},
   "outputs": [],
   "source": [
    "coarse_mesh = firedrake.Mesh('cv.msh')\n",
    "mesh_hierarchy = firedrake.MeshHierarchy(coarse_mesh, 2)\n",
    "mesh = mesh_hierarchy[-1]\n",
    "Q = firedrake.FunctionSpace(mesh, family='CG', degree=1)"
   ]
  },
  {
   "cell_type": "markdown",
   "metadata": {},
   "source": [
    "### A bit of distribution theory\n",
    "\n",
    "Let $K$ be some subset of a domain $\\Omega$ in Euclidean space, and let $\\chi_K$ be the characteristic function of $K$:\n",
    "\n",
    "$$\\chi_K(x) = \\begin{cases}1 & x \\in K \\\\ 0 & x \\notin K \\end{cases}$$\n",
    "\n",
    "**The thing I want to show you**: Let $v$ be a vector field in $\\Omega$ and let $n$ be the unit outward normal vector to $K$.\n",
    "Then\n",
    "\n",
    "$$\\int_\\Omega\\nabla\\chi_K\\cdot v\\hspace{2pt}dx = -\\int_{\\partial K}v\\cdot n\\hspace{2pt}ds.$$\n",
    "\n",
    "This is a little weird because $\\chi_K$ is discontinuous -- how can it have a gradient?\n",
    "\n",
    "First let's try a numerical example.\n",
    "The whole domain $\\Omega$ will be the unit square, and the subset $K$ will be the circle of radius 1/4 about the point $(1/2, 1/2)$.\n",
    "We'll approximate the characteristic function of $K$ by a function $\\chi_\\delta$ that's piecewise linear within each triangle of a mesh."
   ]
  },
  {
   "cell_type": "code",
   "execution_count": null,
   "metadata": {},
   "outputs": [],
   "source": [
    "x = firedrake.SpatialCoordinate(mesh)\n",
    "\n",
    "ξ = firedrake.as_vector((1/2, 1/2))\n",
    "r = 1/4\n",
    "\n",
    "δ = 0.025\n",
    "expr = min_value(1, max_value(0, 1/δ - sqrt(inner(x - ξ, x - ξ))/(δ * r)))\n",
    "χ_δ = firedrake.interpolate(expr, Q)"
   ]
  },
  {
   "cell_type": "code",
   "execution_count": null,
   "metadata": {},
   "outputs": [],
   "source": [
    "firedrake.plot(χ_δ, cmap='magma_r', plot3d=True)"
   ]
  },
  {
   "cell_type": "markdown",
   "metadata": {},
   "source": [
    "Next we'll compute the gradient.\n",
    "It's a bit messy but you can see the clustering of triangles around the boundary of $K$."
   ]
  },
  {
   "cell_type": "code",
   "execution_count": null,
   "metadata": {},
   "outputs": [],
   "source": [
    "Z = firedrake.FunctionSpace(mesh, family='DG', degree=0)\n",
    "z = firedrake.project(sqrt(inner(grad(χ_δ), grad(χ_δ))), Z)"
   ]
  },
  {
   "cell_type": "code",
   "execution_count": null,
   "metadata": {},
   "outputs": [],
   "source": [
    "firedrake.plot(z, cmap='magma_r', plot3d=True)"
   ]
  },
  {
   "cell_type": "markdown",
   "metadata": {},
   "source": [
    "Next we'll create the vector field\n",
    "\n",
    "$$v = x - \\xi$$\n",
    "\n",
    "where $\\xi = (1/2, 1/2)$ is the center of $K$, and numerically evaluate the integral\n",
    "\n",
    "$$\\int_\\Omega\\nabla\\chi_\\delta\\cdot v\\hspace{2pt}dx.$$"
   ]
  },
  {
   "cell_type": "code",
   "execution_count": null,
   "metadata": {},
   "outputs": [],
   "source": [
    "V = firedrake.VectorFunctionSpace(mesh, family='CG', degree=1)\n",
    "expr = x - ξ\n",
    "v = firedrake.interpolate(expr, V)"
   ]
  },
  {
   "cell_type": "code",
   "execution_count": null,
   "metadata": {},
   "outputs": [],
   "source": [
    "J = inner(grad(χ_δ), v) * dx\n",
    "print(firedrake.assemble(J))"
   ]
  },
  {
   "cell_type": "markdown",
   "metadata": {},
   "source": [
    "But we can calculate analytically that\n",
    "\n",
    "$$\\int_{\\partial K}v\\cdot n\\hspace{2pt}ds = \\pi / 8 \\approx 0.39$$\n",
    "\n",
    "which is close enough."
   ]
  },
  {
   "cell_type": "markdown",
   "metadata": {},
   "source": [
    "### More generally\n",
    "\n",
    "Define the *signed distance function* $\\sigma_K$ to be\n",
    "\n",
    "$$\\sigma_K(x) = \\begin{cases}+\\text{dist}(x, K) & x \\not in K \\\\ -\\text{dist}(x, K^c) & x \\in K\\end{cases}$$\n",
    "\n",
    "For example, the signed distance function to a circle is a cone.\n",
    "We can come up with a sequence $\\chi_\\delta$ of approximations to the characteristic function of $K$ as\n",
    "\n",
    "$$\\chi_\\delta(x) = \\max\\{0, \\min\\{1, (1 - \\delta^{-1}\\sigma_K(x))/2\\}\\}.$$\n",
    "\n",
    "This function is 0 further than $\\delta$ away from $K$, $1$ further inside $K$ than $\\delta$, and roughly linear along the normal vector in between.\n",
    "Moreover $\\chi_\\delta$ converges to $\\chi_K$ in the 1-norm as $\\delta \\to 0$.\n",
    "\n",
    "The gradient of $\\chi_\\delta$ has norm $\\delta^{-1}$ in a strip of width $\\delta$ around the boundary of $K$ and is pointed along the unit normal vector $n$.\n",
    "So for any nice vector field $v$,\n",
    "\n",
    "$$\\int_{\\Omega}\\nabla\\chi_\\delta\\cdot v\\hspace{2pt}dx = -\\frac{1}{\\delta}\\int_{\\{x: \\text{dist}(x, \\partial K) < \\delta/2\\}}v\\cdot n\\hspace{2pt}dx\\ldots$$\n",
    "\n",
    "where $n$ is some extension of the unit normal vector field to the region around $K$.\n",
    "In the limit as $\\delta\\to 0$ the volume integral on the right-hand side approaches the surface integral\n",
    "\n",
    "$$\\ldots \\to \\int_{\\partial K}v\\cdot n\\hspace{2pt}ds.$$\n",
    "\n",
    "**Despite the fact that the gradient of $\\chi_K$ is not a function, it still acts on functions in a coherent and well-defined way.**\n",
    "This is the core idea of distribution theory.\n",
    "If you've studied measure theory, it's also fair to say that\n",
    "\n",
    "$$\\nabla\\chi_K = -n\\cdot\\Sigma_{\\partial K}$$\n",
    "\n",
    "where $\\Sigma_{\\partial K}$ is the surface (or Hausdorff) measure concentrated on the surface $\\partial K$."
   ]
  },
  {
   "cell_type": "markdown",
   "metadata": {},
   "source": [
    "### Conservation laws\n",
    "\n",
    "A conservation law describes the way that a field $q$ evolves in time from a *flux function* $F(q, \\nabla q, \\ldots)$.\n",
    "For any control volume $K$ within $\\Omega$, the rate of change of $q$ within $K$ plus the fluxes of $q$ across $\\partial K$ is equal to the sources:\n",
    "\n",
    "$$\\frac{d}{dt}\\int_Kq\\hspace{2pt}dx + \\int_{\\partial K}F(q, \\nabla q, \\ldots)\\cdot n\\hspace{2pt}ds = \\int_Kf\\hspace{2pt}dx.$$\n",
    "\n",
    "Examples:\n",
    "\n",
    "* Mass density $\\rho$, flux = $\\rho u$ where $u$ is velocity.\n",
    "* Momentum $\\rho u$, flux = $\\rho u \\otimes u - \\sigma$ where $\\sigma$ = stress tensor.\n",
    "* Thermal energy $\\rho c_pT$ where $c_p$ = specific heat capcity, flux = $\\rho c_pTu - k\\nabla T$ where $k$ is conductivity coefficient.\n",
    "\n",
    "Using the divergence theorem, you can derive a PDE from this *provided that all the fields are nice*.\n",
    "But they aren't!\n",
    "Instead, let's derive:"
   ]
  },
  {
   "cell_type": "markdown",
   "metadata": {},
   "source": [
    "### Weak forms\n",
    "\n",
    "Using the identities from before about characteristic functions, we can rewrite the conservation law as\n",
    "\n",
    "$$\\int_\\Omega\\left(\\frac{\\partial q}{\\partial t}\\chi_K - F(q, \\nabla q, \\ldots)\\cdot\\nabla\\chi_K\\right)dx = \\int_\\Omega f\\chi_K\\hspace{2pt}dx.$$\n",
    "\n",
    "This equation is additive in $\\chi_K$, i.e. if we have several sets $K_1, \\ldots, K_m$ and a function $\\phi$ such that\n",
    "\n",
    "$$\\phi = \\alpha_1\\chi_{K_1} + \\ldots \\alpha_m\\chi_{K_m},$$\n",
    "\n",
    "then we can rewrite the last equation as\n",
    "\n",
    "$$\\int_\\Omega\\left(\\frac{\\partial q}{\\partial t}\\phi - F(q, \\nabla q, \\ldots)\\cdot\\nabla\\phi\\right)dx = \\int_\\Omega f\\phi\\hspace{2pt}dx.$$\n",
    "\n",
    "Functions $\\phi$ that can be written as a finite linear combination of characteristic functions are called *simple*.\n",
    "Now we can take limits.\n",
    "If $\\phi$ is an arbitrary function in $L^2$ such that $\\nabla\\phi$ is also in $L^2$, there is a sequence of simple functions $\\{\\phi_n\\}$ that converge (weakly) to $\\phi$.\n",
    "Consequently, the last equation also holds for any $\\phi$ within some function space.\n",
    "This is called the **weak form** of the PDE and it is completely equivalent to the conservation law.\n",
    "**The weak form replaces arbitrary control volumes with arbitrary test functions.**"
   ]
  },
  {
   "cell_type": "markdown",
   "metadata": {},
   "source": [
    "### Example\n",
    "\n",
    "The conservation form of steady-state heat conduction is\n",
    "\n",
    "$$-\\int_{\\partial K} k\\nabla T\\cdot n\\hspace{2pt}ds = \\int_Kf\\hspace{2pt}dx$$\n",
    "\n",
    "for all control volumes $K$, where $f$ are heat sources.\n",
    "To get the weak form, surface integral $\\to$ volume integrals, flip a sign, and multiply by the gradient of a test function:\n",
    "\n",
    "$$\\int_\\Omega k\\nabla T\\cdot\\nabla\\phi\\hspace{2pt}dx = \\int_\\Omega f\\phi\\hspace{2pt}dx.$$\n",
    "\n",
    "Something that becomes really obvious now is that the weak form is the same if we flip the roles of $T$ and $\\phi$.\n",
    "Moreover, if we take $\\phi = T$, the left-hand side is always positive.\n",
    "In other words, the weak form of the Poisson equation is symmetric and positive-definite."
   ]
  },
  {
   "cell_type": "markdown",
   "metadata": {},
   "source": [
    "### In general\n",
    "\n",
    "In a lot of finite element or PDE textbooks, you'll see references to a **bilinear form**.\n",
    "The idea is that weak forms are linear in both the field you're solving for and the test function.\n",
    "This type of problem can then be written in an abstract form as\n",
    "\n",
    "$$\\mathscr{A}(q, \\phi) = \\langle f, \\phi\\rangle$$\n",
    "\n",
    "where $\\mathscr{A}$ is the weak form of the PDE and $\\langle\\cdot,\\cdot\\rangle$ is the duality pairing.\n",
    "For time-dependent problems, this instead becomes\n",
    "\n",
    "$$\\left\\langle\\frac{\\partial q}{\\partial t}, \\phi\\right\\rangle + \\mathscr{A}(q, \\phi) = \\langle f, \\phi\\rangle.$$\n",
    "\n",
    "For example, the bilinear form for the Laplace equation is\n",
    "\n",
    "$$\\mathscr{A}(T, \\phi) = \\int_\\Omega k\\nabla T\\cdot\\nabla\\phi\\hspace{2pt}dx.$$"
   ]
  },
  {
   "cell_type": "markdown",
   "metadata": {},
   "source": [
    "### Galerkin's method\n",
    "\n",
    "The solutions of a conservation law or a weak-form PDE live in an infinite-dimensional vector space.\n",
    "(Sobolev spaces, oooh scary!)\n",
    "**Galerkin's method** is a way to find a good approximating function within a finite-dimensional vector space.\n",
    "For now we'll focus on steady-state type problems but you can probably guess how it goes for time-dependent ones.\n",
    "\n",
    "First (and this part is on you!), pick a set of *trial functions* $\\{\\psi_1, \\ldots, \\psi_m\\}$ and let $Q_m$ be the linear span of these basis functions.\n",
    "We will seek an approximation\n",
    "\n",
    "$$\\hat q = q_1\\psi_1 + \\ldots q_m\\psi_m$$\n",
    "\n",
    "to the true solution $q$ of some weak form PDE.\n",
    "To decide on a unique value of $\\hat q$, we pick a set of *test functions* $\\{\\phi_1, \\ldots, \\phi_m\\}$, and require that\n",
    "\n",
    "$$\\mathscr{A}(\\hat q, \\phi_i) = \\langle f, \\phi_i\\rangle$$\n",
    "\n",
    "for all $i$.\n",
    "If we write out the expansion for $\\hat q$, we then get that\n",
    "\n",
    "$$\\sum_j\\mathscr{A}(\\psi_j, \\phi_i)q_j = \\langle f, \\phi_i\\rangle$$\n",
    "\n",
    "for all $i$.\n",
    "But this looks like a matrix equation!\n",
    "Define the *stiffness matrix* and *load vector*\n",
    "\n",
    "$$A_{ij} = \\mathscr{A}(\\psi_j, \\phi_i), \\quad F_i = \\langle f, \\phi_i\\rangle.$$\n",
    "\n",
    "Then the coefficients $\\mathbf{q}$ of $\\hat q$ are the solution of the linear system\n",
    "\n",
    "$$\\mathbf{A}\\mathbf{q} = \\mathbf{F}.$$"
   ]
  },
  {
   "cell_type": "markdown",
   "metadata": {},
   "source": [
    "### Trial and test functions\n",
    "\n",
    "There are lots of ways to pick trial and test functions.\n",
    "With spectral methods, you use trigonometric polynomials or, more generally, any orthonormal sequence.\n",
    "With the finite element method, you use piecewise polynomial functions in each triangle of a mesh.\n",
    "They're all Galerkin's method though.\n",
    "\n",
    "For problems like the Laplace equation, the bilinear form is symmetric:\n",
    "\n",
    "$$\\mathscr{A}(\\psi, \\phi) = \\mathscr{A}(\\phi, \\psi).$$\n",
    "\n",
    "**For symmetric bilinear forms, using the same trial and test functions gives a symmetric matrix.**\n",
    "For advection-type equations, there's no symmetry to preserve, and using a different set of test functions can be very advantageous."
   ]
  }
 ],
 "metadata": {
  "kernelspec": {
   "display_name": "firedrake",
   "language": "python",
   "name": "firedrake"
  },
  "language_info": {
   "codemirror_mode": {
    "name": "ipython",
    "version": 3
   },
   "file_extension": ".py",
   "mimetype": "text/x-python",
   "name": "python",
   "nbconvert_exporter": "python",
   "pygments_lexer": "ipython3",
   "version": "3.7.3"
  }
 },
 "nbformat": 4,
 "nbformat_minor": 2
}
