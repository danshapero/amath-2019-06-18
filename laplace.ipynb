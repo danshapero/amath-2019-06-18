{
 "cells": [
  {
   "cell_type": "code",
   "execution_count": null,
   "metadata": {},
   "outputs": [],
   "source": [
    "%matplotlib notebook\n",
    "import matplotlib.pyplot as plt\n",
    "import numpy as np\n",
    "from numpy import pi as π"
   ]
  },
  {
   "cell_type": "markdown",
   "metadata": {},
   "source": [
    "# Laplace's equation\n",
    "\n",
    "In this demo I'll show how to solve Laplace's equation with firedrake, as well as a few other handy things along the way.\n",
    "Firedrake makes it possible to specify the weak form of the PDE you're solving symbolically.\n",
    "It will generate efficient C code to fill the finite element matrices and vectors so you don't have to."
   ]
  },
  {
   "cell_type": "code",
   "execution_count": null,
   "metadata": {},
   "outputs": [],
   "source": [
    "import firedrake"
   ]
  },
  {
   "cell_type": "markdown",
   "metadata": {},
   "source": [
    "### Input data\n",
    "\n",
    "First we need to define the spatial domain.\n",
    "I used the mesh generator [gmsh](https://gmsh.info) to do this, but you can also use Triangle, Exodus, etc.\n",
    "Firedrake can read the output directly."
   ]
  },
  {
   "cell_type": "code",
   "execution_count": null,
   "metadata": {},
   "outputs": [],
   "source": [
    "mesh = firedrake.Mesh('domain.msh')"
   ]
  },
  {
   "cell_type": "markdown",
   "metadata": {},
   "source": [
    "The domain with a legend for different parts of the boundary.\n",
    "The numeric IDs are used to set where you want different boundary conditions."
   ]
  },
  {
   "cell_type": "code",
   "execution_count": null,
   "metadata": {},
   "outputs": [],
   "source": [
    "fig, axes = plt.subplots()\n",
    "firedrake.plot(mesh, axes=axes)"
   ]
  },
  {
   "cell_type": "markdown",
   "metadata": {},
   "source": [
    "Next we have to decide which basis functions to use for our problem.\n",
    "Here we'll use continuous Galerkin (CG) elements with polynomial degree 1."
   ]
  },
  {
   "cell_type": "code",
   "execution_count": null,
   "metadata": {},
   "outputs": [],
   "source": [
    "Q = firedrake.FunctionSpace(mesh, family='CG', degree=1)"
   ]
  },
  {
   "cell_type": "markdown",
   "metadata": {},
   "source": [
    "Now we have to decide on what the right-hand side of the PDE will be.\n",
    "We can define it from an algebraic expression.\n",
    "To do this, we get some symbolic handles `x`, `y` that represent the coordinates of any point in the domain."
   ]
  },
  {
   "cell_type": "code",
   "execution_count": null,
   "metadata": {},
   "outputs": [],
   "source": [
    "x, y = firedrake.SpatialCoordinate(mesh)"
   ]
  },
  {
   "cell_type": "markdown",
   "metadata": {},
   "source": [
    "Next, we can make an expression describing what we want the right-hand side to be.\n",
    "All of the usual algebraic operations (`+`, `-`, `*`, `/`) have been overloaded for these symbolic objects, and firedrake has its own symbolic transcendental functions (`sin`, `cos`, `exp`, etc.)."
   ]
  },
  {
   "cell_type": "code",
   "execution_count": null,
   "metadata": {},
   "outputs": [],
   "source": [
    "k, l = 2, 1\n",
    "ϕ = π * (k * x + l * y)\n",
    "expr = firedrake.sin(ϕ)"
   ]
  },
  {
   "cell_type": "markdown",
   "metadata": {},
   "source": [
    "Note how forming expressions is *composable* -- we can first form an expression for the phase $\\phi$, and then pass this to the `sin` function.\n",
    "We could have done this all in one line of code of course, but it's really handy to be able to break up complex expressions into smaller ones.\n",
    "Embedded calculators like the field calculator in Paraview or QGIS don't have this feature!\n",
    "\n",
    "We can evaluate this expression at a point by passing in the coordinates as a tuple."
   ]
  },
  {
   "cell_type": "code",
   "execution_count": null,
   "metadata": {},
   "outputs": [],
   "source": [
    "print(ϕ((0.2, -0.1)))"
   ]
  },
  {
   "cell_type": "markdown",
   "metadata": {},
   "source": [
    "The variable `expr` represents an algebraic expression.\n",
    "To get a finite element field out of it, we call the `interpolate` function.\n",
    "We also have to pass in the function space we'll be interpolating the expression to."
   ]
  },
  {
   "cell_type": "code",
   "execution_count": null,
   "metadata": {},
   "outputs": [],
   "source": [
    "f = firedrake.interpolate(expr, Q)"
   ]
  },
  {
   "cell_type": "markdown",
   "metadata": {},
   "source": [
    "### Analyzing functions\n",
    "\n",
    "Before we look at how to specify a PDE let's see how to calculate a few things about functions.\n",
    "The first thing you'll want to do is make plots of them."
   ]
  },
  {
   "cell_type": "code",
   "execution_count": null,
   "metadata": {},
   "outputs": [],
   "source": [
    "axes = firedrake.plot(f, cmap='viridis')\n",
    "axes.set_aspect('equal')"
   ]
  },
  {
   "cell_type": "markdown",
   "metadata": {},
   "source": [
    "But often you'll want to calculate functionals of the input data to a PDE or the solution.\n",
    "We can use the same algebraic or symbolic tools to define these functionals.\n",
    "For example, the following functional represents the squared $L^2$-norm of the right-hand side $f$:"
   ]
  },
  {
   "cell_type": "code",
   "execution_count": null,
   "metadata": {},
   "outputs": [],
   "source": [
    "from firedrake import dx\n",
    "norm_squared = f**2 * dx"
   ]
  },
  {
   "cell_type": "markdown",
   "metadata": {},
   "source": [
    "The variable `dx` represents integration over the entire domain.\n",
    "The variable `norm_squared` is not yet a number -- it's a symbolic entity that describes how to compute a number from the input fields, which in this case are just `f`."
   ]
  },
  {
   "cell_type": "code",
   "execution_count": null,
   "metadata": {},
   "outputs": [],
   "source": [
    "print(type(norm_squared))"
   ]
  },
  {
   "cell_type": "markdown",
   "metadata": {},
   "source": [
    "To actually compute the number that this quantity represents, we pass it to the function `assemble`.\n",
    "The `assemble` function ultimately does all the real work of looping over the cells of a triangulation with some quadrature rule."
   ]
  },
  {
   "cell_type": "code",
   "execution_count": null,
   "metadata": {},
   "outputs": [],
   "source": [
    "print(firedrake.assemble(norm_squared))"
   ]
  },
  {
   "cell_type": "markdown",
   "metadata": {},
   "source": [
    "If we change the value of the function `f` by assigning it some new expression, assembling `norm_squared` again will give a different value."
   ]
  },
  {
   "cell_type": "code",
   "execution_count": null,
   "metadata": {},
   "outputs": [],
   "source": [
    "k, l = 4, 6\n",
    "ϕ = π * (k * x + l * y)\n",
    "new_expr = 0.25 * firedrake.cos(ϕ)\n",
    "f += firedrake.interpolate(new_expr, Q)"
   ]
  },
  {
   "cell_type": "code",
   "execution_count": null,
   "metadata": {},
   "outputs": [],
   "source": [
    "print(firedrake.assemble(norm_squared))"
   ]
  },
  {
   "cell_type": "code",
   "execution_count": null,
   "metadata": {},
   "outputs": [],
   "source": [
    "axes = firedrake.plot(f, cmap='viridis')\n",
    "axes.set_aspect('equal')"
   ]
  },
  {
   "cell_type": "markdown",
   "metadata": {},
   "source": [
    "We can also evaluate integrals over the boundary of the domain by using a different measure."
   ]
  },
  {
   "cell_type": "code",
   "execution_count": null,
   "metadata": {},
   "outputs": [],
   "source": [
    "from firedrake import ds\n",
    "print(firedrake.assemble(f**2 * ds))"
   ]
  },
  {
   "cell_type": "markdown",
   "metadata": {},
   "source": [
    "So far, we've just looked at integrals of `f`, but we can also look at its gradient."
   ]
  },
  {
   "cell_type": "code",
   "execution_count": null,
   "metadata": {},
   "outputs": [],
   "source": [
    "from firedrake import inner, grad\n",
    "energy = inner(grad(f), grad(f)) * dx\n",
    "print(firedrake.assemble(energy))"
   ]
  },
  {
   "cell_type": "markdown",
   "metadata": {},
   "source": [
    "The function `inner` calculates the inner product of two vectors.\n",
    "Just like how we got a symbolic representation of the mesh coordinates, we can also get a symbol for the outward normal vector to calculate things like boundary fluxes."
   ]
  },
  {
   "cell_type": "code",
   "execution_count": null,
   "metadata": {},
   "outputs": [],
   "source": [
    "n = firedrake.FacetNormal(mesh)\n",
    "flux = inner(grad(f), n) * ds\n",
    "print(firedrake.assemble(flux))"
   ]
  },
  {
   "cell_type": "markdown",
   "metadata": {},
   "source": [
    "You can calculate the volume of the domain and the area of the boundary by integrating the constant function $1$ times a measure, but you have to specify the mesh otherwise `assemble` won't know what the domain is."
   ]
  },
  {
   "cell_type": "code",
   "execution_count": null,
   "metadata": {},
   "outputs": [],
   "source": [
    "from firedrake import Constant\n",
    "volume = firedrake.assemble(Constant(1) * dx(mesh))\n",
    "perimeter = firedrake.assemble(Constant(1) * ds(mesh))\n",
    "print('Volume, perimeter: {}, {}'.format(volume, perimeter))"
   ]
  },
  {
   "cell_type": "markdown",
   "metadata": {},
   "source": [
    "### Defining a PDE\n",
    "\n",
    "Given a function $f$ in $L^2$, the weak form of the Laplace equation with Dirichlet boundary conditions is\n",
    "\n",
    "$$\\int_\\Omega\\nabla u\\cdot\\nabla v\\hspace{2pt}dx = \\int_\\Omega fv\\hspace{2pt}d x$$\n",
    "\n",
    "for all $v$ such that $v|_{\\partial\\Omega} = 0$.\n",
    "The functions $v$ are referred to as *test functions*, while the basis functions used to represent $u$ are called *trial functions*.\n",
    "The following code creates test and trial functions on the space $Q$."
   ]
  },
  {
   "cell_type": "code",
   "execution_count": null,
   "metadata": {},
   "outputs": [],
   "source": [
    "u = firedrake.TrialFunction(Q)\n",
    "v = firedrake.TestFunction(Q)"
   ]
  },
  {
   "cell_type": "markdown",
   "metadata": {},
   "source": [
    "These are again symbolic objects with no actual values.\n",
    "We use them only to create the weak form of the PDE, which we can do using the algebraic language shown above."
   ]
  },
  {
   "cell_type": "code",
   "execution_count": null,
   "metadata": {},
   "outputs": [],
   "source": [
    "a = inner(grad(u), grad(v)) * dx"
   ]
  },
  {
   "cell_type": "markdown",
   "metadata": {},
   "source": [
    "The right-hand side will be quite similar."
   ]
  },
  {
   "cell_type": "code",
   "execution_count": null,
   "metadata": {},
   "outputs": [],
   "source": [
    "F = f * v * dx"
   ]
  },
  {
   "cell_type": "markdown",
   "metadata": {},
   "source": [
    "Next we need to add some boundary conditions.\n",
    "The `'on_boundary'` argument can be replaced with a number of a list of numbers describing the parts of the boundary where Dirichlet conditions apply."
   ]
  },
  {
   "cell_type": "code",
   "execution_count": null,
   "metadata": {},
   "outputs": [],
   "source": [
    "bc = firedrake.DirichletBC(Q, 0, 'on_boundary')"
   ]
  },
  {
   "cell_type": "markdown",
   "metadata": {},
   "source": [
    "Finally we can solve the PDE.\n",
    "We need to create a function in the space $Q$ that will hold the value of the solution.\n",
    "This is an actual function with an array of finite element expansion coefficients, not a symbolic object like the test and trial functions from above."
   ]
  },
  {
   "cell_type": "code",
   "execution_count": null,
   "metadata": {},
   "outputs": [],
   "source": [
    "q = firedrake.Function(Q)"
   ]
  },
  {
   "cell_type": "markdown",
   "metadata": {},
   "source": [
    "Finally, to solve the PDE, we specify the equation in terms of the bilinear form and right-hand side, where we're going to put the solution, the boundary conditions, and how to solve it."
   ]
  },
  {
   "cell_type": "code",
   "execution_count": null,
   "metadata": {},
   "outputs": [],
   "source": [
    "firedrake.solve(a == F, q, bc,\n",
    "                solver_parameters={'ksp_type': 'cg',\n",
    "                                   'pc_type': 'jacobi'})"
   ]
  },
  {
   "cell_type": "markdown",
   "metadata": {},
   "source": [
    "One important thing to note is that firedrake makes it easy to specify *what problem you are solving*, but it is up to you to decide *how you are going to solve it*.\n",
    "It is up to you to know that, for example, the Laplace equation is symmetric and positive-definite and that you can then use the conjugate gradient method, as we did here."
   ]
  },
  {
   "cell_type": "code",
   "execution_count": null,
   "metadata": {},
   "outputs": [],
   "source": [
    "firedrake.plot(q, plot3d=True, cmap='viridis')"
   ]
  },
  {
   "cell_type": "code",
   "execution_count": null,
   "metadata": {},
   "outputs": [],
   "source": [
    "energy = inner(grad(q), grad(q)) * dx\n",
    "print(firedrake.assemble(energy))"
   ]
  },
  {
   "cell_type": "markdown",
   "metadata": {},
   "source": [
    "### Try it yourself\n",
    "\n",
    "Some things you can try:\n",
    "\n",
    "* Add in non-zero boundary values.\n",
    "* Use Robin or Neumann boundary conditions.\n",
    "* Make the input data a random trigonometric polynomial.\n",
    "* Add a spatially variable conductivity coefficient.\n",
    "* Use higher-order finite elements.\n",
    "* Estimate the smallest eigenfunction + eigenvalue via the inverse power method."
   ]
  }
 ],
 "metadata": {
  "kernelspec": {
   "display_name": "firedrake",
   "language": "python",
   "name": "firedrake"
  },
  "language_info": {
   "codemirror_mode": {
    "name": "ipython",
    "version": 3
   },
   "file_extension": ".py",
   "mimetype": "text/x-python",
   "name": "python",
   "nbconvert_exporter": "python",
   "pygments_lexer": "ipython3",
   "version": "3.7.3"
  }
 },
 "nbformat": 4,
 "nbformat_minor": 2
}
