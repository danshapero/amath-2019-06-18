{
 "cells": [
  {
   "cell_type": "code",
   "execution_count": null,
   "metadata": {},
   "outputs": [],
   "source": [
    "%matplotlib notebook\n",
    "import matplotlib.pyplot as plt\n",
    "import plot\n",
    "import firedrake\n",
    "from firedrake import (Constant, as_vector, inner, sym, perp,\n",
    "                       grad, div, dx, ds)"
   ]
  },
  {
   "cell_type": "markdown",
   "metadata": {},
   "source": [
    "# The Stokes problem\n",
    "\n",
    "In this demo, I'll look at how to solve the Stokes problem for very viscous fluid flow.\n",
    "We'll use the same domain as the last example, but we'll imagine that the two holes in the center are actually counter-rotating cylinders that drag the fluid along with it."
   ]
  },
  {
   "cell_type": "code",
   "execution_count": null,
   "metadata": {},
   "outputs": [],
   "source": [
    "mesh = firedrake.Mesh('domain.msh')"
   ]
  },
  {
   "cell_type": "markdown",
   "metadata": {},
   "source": [
    "I'll plot the mesh again because the numeric IDs of the boundary components will be important this time around.\n",
    "We need to remember that IDs 5 and 6 are for the circular holes in the domain.\n",
    "The holes are centered at $(-1/2, 1/4)$ and $(1/2, -1/4)$ with radii of $1/4$ and $3/8$, respectively."
   ]
  },
  {
   "cell_type": "code",
   "execution_count": null,
   "metadata": {},
   "outputs": [],
   "source": [
    "fig, axes = plt.subplots()\n",
    "axes.set_aspect('equal')\n",
    "plot.triplot(mesh, axes=axes)\n",
    "fig.show()"
   ]
  },
  {
   "cell_type": "markdown",
   "metadata": {},
   "source": [
    "There are two key differences here with the Laplace equation.\n",
    "First, we need to pick a *vector* function space for the velocities as well as a function space for the pressures.\n",
    "Second, we have to be careful about the [LBB condition](https://en.wikipedia.org/wiki/Ladyzhenskaya%E2%80%93Babu%C5%A1ka%E2%80%93Brezzi_condition).\n",
    "We've used continuous piecewise quadratic velocities and discontinuous piecewise constant pressures, which are known to satisfy the LBB conditions, but other choices are possible."
   ]
  },
  {
   "cell_type": "code",
   "execution_count": null,
   "metadata": {},
   "outputs": [],
   "source": [
    "V = firedrake.VectorFunctionSpace(mesh, family='CG', degree=2)\n",
    "Q = firedrake.FunctionSpace(mesh, family='DG', degree=0)\n",
    "Z = V * Q"
   ]
  },
  {
   "cell_type": "markdown",
   "metadata": {},
   "source": [
    "Next we have to set a viscosity.\n",
    "We'll choose a large value so that the Reynolds number is quite low."
   ]
  },
  {
   "cell_type": "code",
   "execution_count": null,
   "metadata": {},
   "outputs": [],
   "source": [
    "μ = firedrake.Constant(10)"
   ]
  },
  {
   "cell_type": "markdown",
   "metadata": {},
   "source": [
    "Since we're using a mixed function space, we can call `TrialFunctions` instead of `TrialFunction` to get a pair of trial functions representing each component.\n",
    "Likewise for test functions."
   ]
  },
  {
   "cell_type": "code",
   "execution_count": null,
   "metadata": {},
   "outputs": [],
   "source": [
    "u, p = firedrake.TrialFunctions(Z)\n",
    "v, q = firedrake.TestFunctions(Z)"
   ]
  },
  {
   "cell_type": "markdown",
   "metadata": {},
   "source": [
    "Defining the weak form is a similar concept to what we did before.\n",
    "The constitutive relations for most fluids are described in terms of the rate-of-strain tensor\n",
    "\n",
    "$$\\dot\\varepsilon(u) = \\frac{1}{2}\\left(\\nabla u + \\nabla u^*\\right).$$\n",
    "\n",
    "To make the code look as much like the math as possible, we'll introduce an auxiliary function `ε` to calculate the strain rate tensor."
   ]
  },
  {
   "cell_type": "code",
   "execution_count": null,
   "metadata": {},
   "outputs": [],
   "source": [
    "def ε(u):\n",
    "    return sym(grad(u))\n",
    "\n",
    "a = (2 * μ * inner(ε(u), ε(v)) - inner(p, div(v)) - inner(q, div(u))) * dx\n",
    "F = inner(Constant(as_vector((0, 0))), v) * dx"
   ]
  },
  {
   "cell_type": "markdown",
   "metadata": {},
   "source": [
    "The velocity field will rotate with a uniform speed of 1 around each of the circular holes inside the domain.\n",
    "You could imagine that this boundary condition arises because there are two cylindrical rods spinning at this speed immeresed in the fluid.\n",
    "The function `perp(v)` is equivalent to\n",
    "\n",
    "$$v^\\bot = \\hat z \\times v.$$\n",
    "\n",
    "Finally, we'll make the fluid velocity equal to 0 around the outer domain boundary."
   ]
  },
  {
   "cell_type": "code",
   "execution_count": null,
   "metadata": {},
   "outputs": [],
   "source": [
    "x = firedrake.SpatialCoordinate(mesh)\n",
    "\n",
    "x1 = as_vector((-1/2, 1/4))\n",
    "r1 = 1/4\n",
    "g1 = -perp(x - x1) / r1\n",
    "\n",
    "x2 = as_vector((1/2, -1/4))\n",
    "r2 = 3/8\n",
    "g2 = perp(x - x2) / r2"
   ]
  },
  {
   "cell_type": "code",
   "execution_count": null,
   "metadata": {},
   "outputs": [],
   "source": [
    "bc1 = firedrake.DirichletBC(Z.sub(0), g1, 5)\n",
    "bc2 = firedrake.DirichletBC(Z.sub(0), g2, 6)\n",
    "bc3 = firedrake.DirichletBC(Z.sub(0), as_vector((0., 0.)), (1, 2, 3, 4))"
   ]
  },
  {
   "cell_type": "markdown",
   "metadata": {},
   "source": [
    "Getting a good linear solver for the Stokes equations is *much* more complex than for the Laplace equation because the underlying linear system is no longer positive-definite.\n",
    "The following solver parameters specify that we are using:\n",
    "\n",
    "* a matrix-free method (`matfree`) where we don't explicitly form a sparse matrix but rather apply matrix-vector products\n",
    "* the GMRES method as an outer-level solver and a Schur complement preconditioner\n",
    "* a multigrid preconditioner from the package [hypre](https://github.com/hypre-space/hypre) for the velocities\n",
    "* the inverse mass matrix to precondition the pressures\n",
    "* an incomplete LU factorization to precondition the mass matrix inverse solve\n",
    "\n",
    "We also have to tell the solver that the operator has a null space, namely the velocities that are spatially constant."
   ]
  },
  {
   "cell_type": "code",
   "execution_count": null,
   "metadata": {},
   "outputs": [],
   "source": [
    "parameters = {\n",
    "    'mat_type': 'matfree',\n",
    "    'ksp_type': 'gmres',\n",
    "    'pc_type': 'fieldsplit',\n",
    "    'pc_fieldsplit_type': 'schur',\n",
    "    'pc_fieldsplit_schur_fact_type': 'diag',\n",
    "    'fieldsplit_0_ksp_type': 'preonly',\n",
    "    'fieldsplit_0_pc_type': 'python',\n",
    "    'fieldsplit_0_pc_python_type': 'firedrake.AssembledPC',\n",
    "    'fieldsplit_0_assembled_pc_type': 'hypre',\n",
    "    'fieldsplit_1_ksp_type': 'preonly',\n",
    "    'fieldsplit_1_pc_type': 'python',\n",
    "    'fieldsplit_1_pc_python_type': 'firedrake.MassInvPC',\n",
    "    'fieldsplit_1_Mp_ksp_type': 'preonly',\n",
    "    'fieldsplit_1_Mp_pc_type': 'ilu'\n",
    "}\n",
    "\n",
    "from firedrake import MixedVectorSpaceBasis, VectorSpaceBasis\n",
    "nullspace = MixedVectorSpaceBasis(\n",
    "    Z, [Z.sub(0), VectorSpaceBasis(constant=True)])"
   ]
  },
  {
   "cell_type": "markdown",
   "metadata": {},
   "source": [
    "In order to solve the system, we need a variable that we'll call `z` to put the solution in.\n",
    "This variable lives in the mixed space and aggregates together the velocities and pressures.\n",
    "We're also using several boundary conditions and not just one."
   ]
  },
  {
   "cell_type": "code",
   "execution_count": null,
   "metadata": {},
   "outputs": [],
   "source": [
    "z = firedrake.Function(Z)\n",
    "firedrake.solve(a == F, z, bcs=[bc1, bc2, bc3],\n",
    "                nullspace=nullspace,\n",
    "                solver_parameters=parameters)"
   ]
  },
  {
   "cell_type": "markdown",
   "metadata": {},
   "source": [
    "To get the velocity and pressure back out of `z` we call the method `split`."
   ]
  },
  {
   "cell_type": "code",
   "execution_count": null,
   "metadata": {},
   "outputs": [],
   "source": [
    "u, p = z.split()"
   ]
  },
  {
   "cell_type": "markdown",
   "metadata": {},
   "source": [
    "We can then plot and analyze these functions separately."
   ]
  },
  {
   "cell_type": "code",
   "execution_count": null,
   "metadata": {},
   "outputs": [],
   "source": [
    "fig, axes = plt.subplots()\n",
    "axes.set_aspect('equal')\n",
    "contours = plot.tricontourf(u, 40, cmap='viridis', axes=axes)\n",
    "fig.colorbar(contours)\n",
    "fig.show()"
   ]
  },
  {
   "cell_type": "markdown",
   "metadata": {},
   "source": [
    "As a sanity check, we can make sure that the divergence of the velocity field is small in some sense."
   ]
  },
  {
   "cell_type": "code",
   "execution_count": null,
   "metadata": {},
   "outputs": [],
   "source": [
    "div_norm = firedrake.assemble(div(u)**2 * dx)\n",
    "grad_norm = firedrake.assemble(inner(grad(u), grad(u)) * dx)\n",
    "print(div_norm / grad_norm)"
   ]
  },
  {
   "cell_type": "code",
   "execution_count": null,
   "metadata": {},
   "outputs": [],
   "source": [
    "# TODO: tripcolor\n",
    "fig, axes = plt.subplots()\n",
    "contours = plot.tricontourf(p, 40, cmap='viridis', axes=axes)\n",
    "fig.colorbar(contours)\n",
    "fig.show()"
   ]
  },
  {
   "cell_type": "markdown",
   "metadata": {},
   "source": [
    "### Saving the results\n",
    "\n",
    "Firedrake has a way to save the result to an HDF5 file so that you can resume using it later.\n",
    "This is called *checkpointing* and it's especially useful for long-running simulations where there's a chance it could crash in the middle or where you want to separate the analysis from the simulation.\n",
    "You have to pass a name when you store a field and remember what the name was when you want to load it again."
   ]
  },
  {
   "cell_type": "code",
   "execution_count": null,
   "metadata": {},
   "outputs": [],
   "source": [
    "chk = firedrake.DumbCheckpoint('velocity', mode=firedrake.FILE_CREATE)\n",
    "chk.store(u, name='u')"
   ]
  },
  {
   "cell_type": "markdown",
   "metadata": {},
   "source": [
    "We'll use the resulting velocity in the next demo."
   ]
  },
  {
   "cell_type": "markdown",
   "metadata": {},
   "source": [
    "### Things to try\n",
    "\n",
    "* Change the finite element spaces\n",
    "* Change the relative velocities of the cylinders\n",
    "* Make the cylinders rotate in the same direction"
   ]
  }
 ],
 "metadata": {
  "kernelspec": {
   "display_name": "firedrake",
   "language": "python",
   "name": "firedrake"
  },
  "language_info": {
   "codemirror_mode": {
    "name": "ipython",
    "version": 3
   },
   "file_extension": ".py",
   "mimetype": "text/x-python",
   "name": "python",
   "nbconvert_exporter": "python",
   "pygments_lexer": "ipython3",
   "version": "3.7.3"
  }
 },
 "nbformat": 4,
 "nbformat_minor": 2
}
