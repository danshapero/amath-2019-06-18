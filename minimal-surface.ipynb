{
 "cells": [
  {
   "cell_type": "code",
   "execution_count": null,
   "metadata": {},
   "outputs": [],
   "source": [
    "%matplotlib notebook\n",
    "import matplotlib.pyplot as plt\n",
    "import plot\n",
    "from numpy import pi as π\n",
    "import firedrake\n",
    "from firedrake import inner, as_vector, sqrt, sin, cos, grad, dx"
   ]
  },
  {
   "cell_type": "markdown",
   "metadata": {},
   "source": [
    "# The minimal surface equation\n",
    "\n",
    "In this demo I'll show a nonlinear elliptic PDE, the minimal surface equation.\n",
    "The minimal surface equation can be best described via a principle for a field $u$.\n",
    "The *action* functional is the quantity\n",
    "\n",
    "$$J(u) = \\int_\\Omega\\sqrt{1 + |\\nabla u|^2}dx$$\n",
    "\n",
    "i.e. the area of the graph of $u$.\n",
    "The goal is to find the minimizer of $J$ subject to the Dirichlet boundary condition\n",
    "\n",
    "$$u|_{\\partial\\Omega} = g.$$\n",
    "\n",
    "The functional derivative of $J$ along a perturbation $v$ is\n",
    "\n",
    "$$\\left\\langle dJ(u), v\\right\\rangle = \\int_\\Omega\\frac{\\nabla u\\cdot\\nabla v}{\\sqrt{1 + |\\nabla u|^2}}dx$$\n",
    "\n",
    "You can compute the second derivative but part of what I'll show is how to use the symbolic differentiation capability of firedrake.\n",
    "We'll then implement a Newton-type method to solve for $u$.\n",
    "\n",
    "The domain will be the same as before, and for the boundary conditions we'll use the trigonometric polynomial from the Laplace demo."
   ]
  },
  {
   "cell_type": "code",
   "execution_count": null,
   "metadata": {},
   "outputs": [],
   "source": [
    "mesh = firedrake.Mesh('domain.msh')\n",
    "Q = firedrake.FunctionSpace(mesh, family='CG', degree=1)"
   ]
  },
  {
   "cell_type": "code",
   "execution_count": null,
   "metadata": {},
   "outputs": [],
   "source": [
    "x = firedrake.SpatialCoordinate(mesh)\n",
    "\n",
    "a1 = 1.\n",
    "k1 = as_vector((2, 1))\n",
    "ϕ1 = π * inner(k1, x)\n",
    "\n",
    "a2 = 1/4\n",
    "k2 = as_vector((4, 6))\n",
    "ϕ2 = π * inner(k2, x)\n",
    "\n",
    "expr = a1 * sin(ϕ1) + a2 * cos(ϕ2)\n",
    "g = firedrake.interpolate(expr, Q)"
   ]
  },
  {
   "cell_type": "code",
   "execution_count": null,
   "metadata": {},
   "outputs": [],
   "source": [
    "fig, axes = plt.subplots()\n",
    "axes.set_aspect('equal')\n",
    "contours = plot.tricontourf(g, 40, cmap='viridis', axes=axes)\n",
    "fig.colorbar(contours)\n",
    "fig.show()"
   ]
  },
  {
   "cell_type": "markdown",
   "metadata": {},
   "source": [
    "Forming the action functional works just like any other functional."
   ]
  },
  {
   "cell_type": "code",
   "execution_count": null,
   "metadata": {},
   "outputs": [],
   "source": [
    "u = g.copy(deepcopy=True)\n",
    "J = sqrt(1 + inner(grad(u), grad(u))) * dx"
   ]
  },
  {
   "cell_type": "code",
   "execution_count": null,
   "metadata": {},
   "outputs": [],
   "source": [
    "print('Initial surface area: {}'.format(firedrake.assemble(J)))"
   ]
  },
  {
   "cell_type": "markdown",
   "metadata": {},
   "source": [
    "Firedrake can compute the functional derivative of $J$ with respect to $u$ by using a symbolic algebra package under the hood."
   ]
  },
  {
   "cell_type": "code",
   "execution_count": null,
   "metadata": {},
   "outputs": [],
   "source": [
    "F = firedrake.derivative(J, u)"
   ]
  },
  {
   "cell_type": "markdown",
   "metadata": {},
   "source": [
    "We can go one step further and compute the second derivative.\n",
    "This will come in handy for using Newton's method."
   ]
  },
  {
   "cell_type": "code",
   "execution_count": null,
   "metadata": {},
   "outputs": [],
   "source": [
    "H = firedrake.derivative(F, u)"
   ]
  },
  {
   "cell_type": "markdown",
   "metadata": {},
   "source": [
    "As a sanity check, the method `arguments` of a form returns a list of its arguments.\n",
    "A rank-0 form, i.e. a functional has no arguments, only coefficients.\n",
    "A rank-1 form has one argument, a test function.\n",
    "A rank-2 form has two arguments, a test function and a trial function."
   ]
  },
  {
   "cell_type": "code",
   "execution_count": null,
   "metadata": {},
   "outputs": [],
   "source": [
    "print('Rank of J: {}'.format(len(J.arguments())))\n",
    "print('Rank of F: {}'.format(len(F.arguments())))\n",
    "print('Rank of H: {}'.format(len(H.arguments())))"
   ]
  },
  {
   "cell_type": "markdown",
   "metadata": {},
   "source": [
    "The field $u$ is not an argument, but rather a *coefficient* of $J$, $F$, and $H$."
   ]
  },
  {
   "cell_type": "code",
   "execution_count": null,
   "metadata": {},
   "outputs": [],
   "source": [
    "u is J.coefficients()[0]"
   ]
  },
  {
   "cell_type": "markdown",
   "metadata": {},
   "source": [
    "Let's compute the Newton search direction $v$ to get a perturbation to $u$.\n",
    "Since $u$ is a copy of $g$ and thus already satisfies the boundary conditions, we can set 0 boundary conditions in our solve for $v$."
   ]
  },
  {
   "cell_type": "code",
   "execution_count": null,
   "metadata": {},
   "outputs": [],
   "source": [
    "v = firedrake.Function(Q)\n",
    "bc = firedrake.DirichletBC(Q, 0, 'on_boundary')\n",
    "firedrake.solve(H == -F, v, bc,\n",
    "                solver_parameters={'ksp_type': 'preonly',\n",
    "                                   'pc_type': 'lu'})"
   ]
  },
  {
   "cell_type": "code",
   "execution_count": null,
   "metadata": {},
   "outputs": [],
   "source": [
    "fig, axes = plt.subplots()\n",
    "axes.set_aspect('equal')\n",
    "contours = plot.tricontourf(v, 40, cmap='viridis', axes=axes)\n",
    "fig.colorbar(contours)\n",
    "fig.show()"
   ]
  },
  {
   "cell_type": "markdown",
   "metadata": {},
   "source": [
    "We can calculate the derivative of $J$ along $v$ by using the function `action`.\n",
    "In this case $F$, the derivative of $J$, is a rank-1 form. \n",
    "The action of $F$ on $v$ gives a rank-0 form that we can assemble into a scalar."
   ]
  },
  {
   "cell_type": "code",
   "execution_count": null,
   "metadata": {},
   "outputs": [],
   "source": [
    "directional_derivative = firedrake.action(F, v)"
   ]
  },
  {
   "cell_type": "code",
   "execution_count": null,
   "metadata": {},
   "outputs": [],
   "source": [
    "print('Rank of the directional derivative: {}'\n",
    "      .format(len(directional_derivative.arguments())))"
   ]
  },
  {
   "cell_type": "code",
   "execution_count": null,
   "metadata": {},
   "outputs": [],
   "source": [
    "print('Value of the directional derivative: {}'\n",
    "      .format(firedrake.assemble(directional_derivative)))"
   ]
  },
  {
   "cell_type": "markdown",
   "metadata": {},
   "source": [
    "The action functional $J$ is decreasing along $v$, which is just what you'd want from a search direction.\n",
    "Now let's try to do a line search along $v$ -- find a value of $t$ such that $J(u + t \\cdot v)$ is smaller than $J(u)$."
   ]
  },
  {
   "cell_type": "code",
   "execution_count": null,
   "metadata": {},
   "outputs": [],
   "source": [
    "t = firedrake.Constant(1)\n",
    "u_t = u + t * v\n",
    "J_t = firedrake.replace(J, {u: u_t})\n",
    "J_0 = firedrake.assemble(J)\n",
    "print('t            |   δJ')\n",
    "for k in range(10):\n",
    "    print('{:4e} | {}'.format(1.0/2**k, firedrake.assemble(J_t) - J_0))\n",
    "    t.assign(0.5 * t)"
   ]
  },
  {
   "cell_type": "markdown",
   "metadata": {},
   "source": [
    "In this case, a step length of 1/16 gives an appreciable decrease in surface area.\n",
    "\n",
    "**Exercise**: Make this into a backtracking Newton search!"
   ]
  }
 ],
 "metadata": {
  "kernelspec": {
   "display_name": "firedrake",
   "language": "python",
   "name": "firedrake"
  },
  "language_info": {
   "codemirror_mode": {
    "name": "ipython",
    "version": 3
   },
   "file_extension": ".py",
   "mimetype": "text/x-python",
   "name": "python",
   "nbconvert_exporter": "python",
   "pygments_lexer": "ipython3",
   "version": "3.7.3"
  }
 },
 "nbformat": 4,
 "nbformat_minor": 2
}
