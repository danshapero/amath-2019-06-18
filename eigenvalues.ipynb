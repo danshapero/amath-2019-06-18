{
 "cells": [
  {
   "cell_type": "code",
   "execution_count": null,
   "metadata": {},
   "outputs": [],
   "source": [
    "%matplotlib notebook\n",
    "import matplotlib.pyplot as plt\n",
    "import numpy as np\n",
    "from numpy import pi as π\n",
    "import firedrake\n",
    "import plot\n",
    "from firedrake import inner, grad, dx, ds\n",
    "from petsc4py import PETSc\n",
    "from slepc4py import SLEPc"
   ]
  },
  {
   "cell_type": "markdown",
   "metadata": {},
   "source": [
    "# Let's solve an eigenproblem\n",
    "\n",
    "In this post I'll look at how to solve the Dirichlet eigenproblem for the Laplace operator.\n",
    "The weak form of the eigenproblem is to find a function $u$ and a real number $\\lambda$ such that, for all test functions $v$,\n",
    "\n",
    "$$\\int_\\Omega\\nabla u\\cdot\\nabla v\\hspace{2pt}dx = \\lambda\\int_\\Omega uv\\hspace{2pt}dx.$$\n",
    "\n",
    "When discretized via the finite element method, this becomes the generalized eigenvalue problem\n",
    "\n",
    "$$\\mathbf{A}\\mathbf{u} = \\lambda\\mathbf{M}\\mathbf{u}$$\n",
    "\n",
    "where $\\mathbf{A}$ is the stiffness matrix, $\\mathbf{M}$ is the mass matrix, and $\\mathbf{u}$ is the vector of finite element expansion coefficients."
   ]
  },
  {
   "cell_type": "code",
   "execution_count": null,
   "metadata": {},
   "outputs": [],
   "source": [
    "mesh = firedrake.Mesh('domain.msh')"
   ]
  },
  {
   "cell_type": "markdown",
   "metadata": {},
   "source": [
    "We'll use the same domain as before.\n",
    "In this demo we'll have to go a level deeper and call PETSc directly."
   ]
  },
  {
   "cell_type": "markdown",
   "metadata": {},
   "source": [
    "### Using SLEPc\n",
    "\n",
    "First, we'll set up a function space and create forms for the stiffness and mass matrices."
   ]
  },
  {
   "cell_type": "code",
   "execution_count": null,
   "metadata": {},
   "outputs": [],
   "source": [
    "Q = firedrake.FunctionSpace(mesh, family='CG', degree=1)\n",
    "ϕ = firedrake.TestFunction(Q)\n",
    "ψ = firedrake.TrialFunction(Q)\n",
    "a = inner(grad(ϕ), grad(ψ)) * dx\n",
    "m = ϕ * ψ * dx\n",
    "\n",
    "print(type(a), type(m))\n",
    "\n",
    "bc = firedrake.DirichletBC(Q, firedrake.Constant(0), 'on_boundary')"
   ]
  },
  {
   "cell_type": "markdown",
   "metadata": {},
   "source": [
    "Now the weird part comes!\n",
    "Before, we've used `firedrake.assemble` to compute a real number from a rank-0 form.\n",
    "Internally this does the loop over all the triangles of the mesh.\n",
    "We can also use it to take a rank-2 form and get a matrix out of it."
   ]
  },
  {
   "cell_type": "code",
   "execution_count": null,
   "metadata": {},
   "outputs": [],
   "source": [
    "A = firedrake.assemble(a, bcs=bc).M.handle\n",
    "M = firedrake.assemble(m).M.handle\n",
    "\n",
    "print(type(A))"
   ]
  },
  {
   "cell_type": "markdown",
   "metadata": {},
   "source": [
    "Next we start setting a bunch of options for how we're going to solve the eigenproblem."
   ]
  },
  {
   "cell_type": "code",
   "execution_count": null,
   "metadata": {},
   "outputs": [],
   "source": [
    "num_eigenvalues = 200\n",
    "\n",
    "opts = PETSc.Options()\n",
    "opts.setValue('eps_gen_hermitian', None)\n",
    "opts.setValue('eps_target_real', None)\n",
    "opts.setValue('eps_smallest_real', None)\n",
    "opts.setValue('st_type', 'sinvert')\n",
    "opts.setValue('st_ksp_type', 'cg')\n",
    "opts.setValue('st_pc-type', 'jacobi')\n",
    "opts.setValue('eps_tol', 1e-8)"
   ]
  },
  {
   "cell_type": "markdown",
   "metadata": {},
   "source": [
    "These options state that we:\n",
    "\n",
    "* are solving a generalized Hermitian eigenproblem\n",
    "* want only the smallest real eigenvalues\n",
    "* will apply a spectral transformation (ST), in this case inverting the matrix\n",
    "* will apply this transformation using\n",
    "  - the conjugate gradient method\n",
    "  - a jacobi preconditioner\n",
    "* want a residual tolerance of $10^{-8}$\n",
    "\n",
    "Getting the options right is essential!\n",
    "Without them the algorithm will fail to converge.\n",
    "\n",
    "The remaining code sets up the eigenproblem and gets a solution out of it."
   ]
  },
  {
   "cell_type": "code",
   "execution_count": null,
   "metadata": {},
   "outputs": [],
   "source": [
    "eigensolver = SLEPc.EPS().create(comm=firedrake.COMM_WORLD)\n",
    "eigensolver.setDimensions(num_eigenvalues)\n",
    "eigensolver.setOperators(A, M)\n",
    "eigensolver.setFromOptions()"
   ]
  },
  {
   "cell_type": "code",
   "execution_count": null,
   "metadata": {},
   "outputs": [],
   "source": [
    "eigensolver.solve()"
   ]
  },
  {
   "cell_type": "code",
   "execution_count": null,
   "metadata": {},
   "outputs": [],
   "source": [
    "num_converged = eigensolver.getConverged()\n",
    "print(num_converged)"
   ]
  },
  {
   "cell_type": "code",
   "execution_count": null,
   "metadata": {},
   "outputs": [],
   "source": [
    "Vr, Vi = A.getVecs()\n",
    "λ = eigensolver.getEigenpair(0, Vr, Vi)"
   ]
  },
  {
   "cell_type": "markdown",
   "metadata": {},
   "source": [
    "When we retrieve a result, it's stored as a PETSc vector, but to plot it we want to use a firedrake function.\n",
    "Here we create an empty firedrake function defined on the space $Q$ and manually fill its vector entries from the PETSc vector."
   ]
  },
  {
   "cell_type": "code",
   "execution_count": null,
   "metadata": {},
   "outputs": [],
   "source": [
    "ϕ = firedrake.Function(Q)\n",
    "ϕ.vector()[:] = Vr\n",
    "\n",
    "# Get the sign right\n",
    "if ϕ.vector()[0] < 0:\n",
    "    ϕ *= -1"
   ]
  },
  {
   "cell_type": "code",
   "execution_count": null,
   "metadata": {},
   "outputs": [],
   "source": [
    "fig, axes = plt.subplots()\n",
    "axes.set_aspect('equal')\n",
    "contours = plot.tricontourf(ϕ, 40, cmap='magma', axes=axes)\n",
    "fig.colorbar(contours)\n",
    "fig.show()"
   ]
  },
  {
   "cell_type": "markdown",
   "metadata": {},
   "source": [
    "### Try it yourself\n",
    "\n",
    "Some fun things you can do with the eigenvalues and eigenfunctions:\n",
    "\n",
    "* Check how well the eigenvalue growth agrees with Weyl's law.\n",
    "* Check how well the zero contours agree with the Courant nodal domain theorem.\n",
    "\n",
    "How do the following changes affect the eigenvalues and eigenfunctions?\n",
    "\n",
    "* Add spatially varying conductivity.\n",
    "* Use a domain with more or fewer holes.\n",
    "* Use Neumann or Robin boundary conditions instead of Dirichlet."
   ]
  }
 ],
 "metadata": {
  "kernelspec": {
   "display_name": "firedrake",
   "language": "python",
   "name": "firedrake"
  },
  "language_info": {
   "codemirror_mode": {
    "name": "ipython",
    "version": 3
   },
   "file_extension": ".py",
   "mimetype": "text/x-python",
   "name": "python",
   "nbconvert_exporter": "python",
   "pygments_lexer": "ipython3",
   "version": "3.7.3"
  }
 },
 "nbformat": 4,
 "nbformat_minor": 2
}
