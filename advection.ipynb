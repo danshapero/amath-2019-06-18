{
 "cells": [
  {
   "cell_type": "code",
   "execution_count": null,
   "metadata": {},
   "outputs": [],
   "source": [
    "%matplotlib notebook\n",
    "import matplotlib.pyplot as plt\n",
    "import plot\n",
    "from numpy import pi as π\n",
    "import firedrake\n",
    "from firedrake import (inner, as_vector, max_value, min_value, sqrt, replace,\n",
    "                       LinearVariationalProblem, LinearVariationalSolver,\n",
    "                       grad, div, dx, ds, dS)"
   ]
  },
  {
   "cell_type": "markdown",
   "metadata": {},
   "source": [
    "# Hyperbolic problems\n",
    "\n",
    "In this demo, I'll show how to solve the conservative advection equation using the discontinuous Galerkin method.\n",
    "The conservation form of this PDE is\n",
    "\n",
    "$$\\frac{d}{dt}\\int_Vq\\hspace{2pt}dx + \\int_{\\partial V}qu\\cdot n\\hspace{2pt}ds = \\int_Vfdx$$\n",
    "\n",
    "for any control volume $V$, where $q$ is the solution, $u$ is a velocity field, and $f$ are the sources and sinks.\n",
    "This can be converted to a weak form using the method I showed earlier.\n",
    "In order to use DG methods, we'll need to also add in integrals over interior facets.\n",
    "As input data, we'll use the same domain as before, and we'll use the velocity field computed in the Stokes example."
   ]
  },
  {
   "cell_type": "code",
   "execution_count": null,
   "metadata": {},
   "outputs": [],
   "source": [
    "mesh = firedrake.Mesh('domain.msh')"
   ]
  },
  {
   "cell_type": "markdown",
   "metadata": {},
   "source": [
    "As we saw with the pressure field in the last example, creating a DG function space amounts to specifying a different family. "
   ]
  },
  {
   "cell_type": "code",
   "execution_count": null,
   "metadata": {},
   "outputs": [],
   "source": [
    "Q = firedrake.FunctionSpace(mesh, family='DG', degree=1)"
   ]
  },
  {
   "cell_type": "markdown",
   "metadata": {},
   "source": [
    "To load the velocity field, we create another checkpoint object, only this time it's in read rather than create mode.\n",
    "We then call load and pass in the name of the field we used when we stored it."
   ]
  },
  {
   "cell_type": "code",
   "execution_count": null,
   "metadata": {},
   "outputs": [],
   "source": [
    "V = firedrake.VectorFunctionSpace(mesh, family='CG', degree=2)\n",
    "chk = firedrake.DumbCheckpoint('velocity', mode=firedrake.FILE_READ)\n",
    "u = firedrake.Function(V)\n",
    "chk.load(u, name='u')"
   ]
  },
  {
   "cell_type": "markdown",
   "metadata": {},
   "source": [
    "The initial data will be equal to 1 within a circle of radius 3/8 around the point $(1/4, 1/2)$ and 0 outside."
   ]
  },
  {
   "cell_type": "code",
   "execution_count": null,
   "metadata": {},
   "outputs": [],
   "source": [
    "x = firedrake.SpatialCoordinate(mesh)\n",
    "\n",
    "x0 = as_vector((1/4, 1/2))\n",
    "r = 3/8\n",
    "dist2 = inner(x - x0, x - x0)\n",
    "expr = max_value(1 - dist2/r**2, 0)\n",
    "q0 = firedrake.interpolate(expr, Q)\n",
    "q = q0.copy(deepcopy=True)"
   ]
  },
  {
   "cell_type": "code",
   "execution_count": null,
   "metadata": {},
   "outputs": [],
   "source": [
    "fig, axes = plt.subplots()\n",
    "axes.set_aspect('equal')\n",
    "contours = plot.tripcolor(q, cmap='viridis')\n",
    "fig.colorbar(contours)\n",
    "fig.show()"
   ]
  },
  {
   "cell_type": "markdown",
   "metadata": {},
   "source": [
    "First, we have to decide how long to integrate the PDE for and how many timesteps to use.\n",
    "We'll use an ending time of $2\\pi$, which would give a signal on the boundary of one of the circles time to go all the way around."
   ]
  },
  {
   "cell_type": "code",
   "execution_count": null,
   "metadata": {},
   "outputs": [],
   "source": [
    "T = 2 * π\n",
    "num_steps = 1200\n",
    "δt = firedrake.Constant(T / num_steps)"
   ]
  },
  {
   "cell_type": "markdown",
   "metadata": {},
   "source": [
    "The total flux is divided into three parts.\n",
    "We can get the flux interior to each cell through the usual method or through integration by parts from the strong form of the PDE."
   ]
  },
  {
   "cell_type": "code",
   "execution_count": null,
   "metadata": {},
   "outputs": [],
   "source": [
    "ϕ = firedrake.TestFunction(Q)\n",
    "cell_flux = -inner(grad(ϕ), q * u) * dx"
   ]
  },
  {
   "cell_type": "markdown",
   "metadata": {},
   "source": [
    "Next is the flux into and out of the boundary of the domain."
   ]
  },
  {
   "cell_type": "code",
   "execution_count": null,
   "metadata": {},
   "outputs": [],
   "source": [
    "n = firedrake.FacetNormal(mesh)\n",
    "\n",
    "q_in = firedrake.Constant(0)\n",
    "flux_in = min_value(inner(u, n), 0) * q_in * ϕ * ds\n",
    "flux_out = max_value(inner(u, n), 0) * q * ϕ * ds"
   ]
  },
  {
   "cell_type": "markdown",
   "metadata": {},
   "source": [
    "Next is the flux across cell faces and this is where the DG magic comes in.\n",
    "To calculate the face flux, we need to decide on a *numerical flux function*.\n",
    "There are several necessary criteria for a numerical flux function to be consistent with the underlying equation, but beyond that the choice is arbitrary.\n",
    "A very common one is the upwind flux, which we'll use here."
   ]
  },
  {
   "cell_type": "code",
   "execution_count": null,
   "metadata": {},
   "outputs": [],
   "source": [
    "u_n = 0.5 * (inner(u, n) + abs(inner(u, n)))"
   ]
  },
  {
   "cell_type": "markdown",
   "metadata": {},
   "source": [
    "The face flux is expressed in terms of the jumps in the test function and the flux across the face.\n",
    "We can extract the value of these functions across a face by using the call operator and passing in the characters `'+'` and `'-'` to indicate the values within the current cell and in the opposite cell.\n",
    "The precise orientation is arbitrary and the resulting expression should be symmetric to interchanging the signs.\n",
    "The measure that indicates integration over all cell faces, rather than just boundary faces, is `dS`."
   ]
  },
  {
   "cell_type": "code",
   "execution_count": null,
   "metadata": {},
   "outputs": [],
   "source": [
    "f = q * u_n\n",
    "face_flux = (f('+') - f('-')) * (ϕ('+') - ϕ('-')) * dS"
   ]
  },
  {
   "cell_type": "markdown",
   "metadata": {},
   "source": [
    "Finally, we can add all these together to get the total flux."
   ]
  },
  {
   "cell_type": "code",
   "execution_count": null,
   "metadata": {},
   "outputs": [],
   "source": [
    "F = -δt * (cell_flux + face_flux + flux_in + flux_out)"
   ]
  },
  {
   "cell_type": "markdown",
   "metadata": {},
   "source": [
    "Since we'll be using an explicit time integration method, the matrix defining the linear system is just the mass matrix."
   ]
  },
  {
   "cell_type": "code",
   "execution_count": null,
   "metadata": {},
   "outputs": [],
   "source": [
    "ψ = firedrake.TrialFunction(Q)\n",
    "m = ϕ * ψ * dx"
   ]
  },
  {
   "cell_type": "markdown",
   "metadata": {},
   "source": [
    "### Solution method\n",
    "\n",
    "To solve this PDE, we'll use the strong stability-preserving Runge Kutta method of order 3 (SSPRK3).\n",
    "In each step we'll solve a linear system for the increment $\\delta q$ to the solution.\n",
    "SSPRK3 is a multi-stage method so we need to create some functions to store the values at each stage as well as for the total increment."
   ]
  },
  {
   "cell_type": "code",
   "execution_count": null,
   "metadata": {},
   "outputs": [],
   "source": [
    "δq = firedrake.Function(Q)\n",
    "q1 = firedrake.Function(Q)\n",
    "q2 = firedrake.Function(Q)"
   ]
  },
  {
   "cell_type": "markdown",
   "metadata": {},
   "source": [
    "Rather than directly invoke `firedrake.solve`, we'll create some intermediate objects that will make repeated solves of the same linear system much faster.\n",
    "The function `firedrake.replace` takes an argument (in this case `q`) of a form and replaces every instance of it with another function.\n",
    "We're using this mechanism so that we don't have to recreate the flux objects with the intermediate stages `q1`, `q2`."
   ]
  },
  {
   "cell_type": "code",
   "execution_count": null,
   "metadata": {},
   "outputs": [],
   "source": [
    "problem1 = LinearVariationalProblem(m, F, δq)\n",
    "problem2 = LinearVariationalProblem(m, replace(F, {q: q1}), δq)\n",
    "problem3 = LinearVariationalProblem(m, replace(F, {q: q2}), δq)"
   ]
  },
  {
   "cell_type": "markdown",
   "metadata": {},
   "source": [
    "Since the mass matrix for DG methods is block diagonal, the following solver parameters give us an exact solver for the mass matrix inverse."
   ]
  },
  {
   "cell_type": "code",
   "execution_count": null,
   "metadata": {},
   "outputs": [],
   "source": [
    "parameters = {\n",
    "    'ksp_type': 'preonly',\n",
    "    'pc_type': 'bjacobi',\n",
    "    'sub_pc_type': 'ilu'\n",
    "}"
   ]
  },
  {
   "cell_type": "markdown",
   "metadata": {},
   "source": [
    "Finally we create some linear solver objects corresponding to these problems."
   ]
  },
  {
   "cell_type": "code",
   "execution_count": null,
   "metadata": {},
   "outputs": [],
   "source": [
    "solver1 = LinearVariationalSolver(problem1, solver_parameters=parameters)\n",
    "solver2 = LinearVariationalSolver(problem2, solver_parameters=parameters)\n",
    "solver3 = LinearVariationalSolver(problem3, solver_parameters=parameters)"
   ]
  },
  {
   "cell_type": "markdown",
   "metadata": {},
   "source": [
    "To make things extra sharp, we can also add in a limiter."
   ]
  },
  {
   "cell_type": "code",
   "execution_count": null,
   "metadata": {},
   "outputs": [],
   "source": [
    "limiter = firedrake.VertexBasedLimiter(Q)\n",
    "\n",
    "for step in range(num_steps + 1):\n",
    "    solver1.solve()\n",
    "    q1.assign(q + δq)\n",
    "    \n",
    "    solver2.solve()\n",
    "    q2.assign(3/4*q + 1/4*(q1 + δq))\n",
    "    \n",
    "    solver3.solve()\n",
    "    q.assign(1/3*q + 2/3*(q2 + δq))\n",
    "    \n",
    "    limiter.apply(q)\n",
    "    \n",
    "    print('.' if step % 50 == 0 else '', end='', flush=True)"
   ]
  },
  {
   "cell_type": "code",
   "execution_count": null,
   "metadata": {},
   "outputs": [],
   "source": [
    "fig, axes = plt.subplots()\n",
    "axes.set_aspect('equal')\n",
    "contours = plot.tripcolor(q, cmap='viridis', axes=axes)\n",
    "fig.show()"
   ]
  },
  {
   "cell_type": "markdown",
   "metadata": {},
   "source": [
    "Once again, the symbolic language in firedrake makes it really easy to specify PDE, but it's still on you to decide how to solve it.\n",
    "In this example, it's up to you to choose what time integration scheme to use and how long of a timestep.\n",
    "In particular, you still need to satisfy the [Courant-Friedrichs-Lewy condition](https://en.wikipedia.org/wiki/Courant%E2%80%93Friedrichs%E2%80%93Lewy_condition)."
   ]
  },
  {
   "cell_type": "markdown",
   "metadata": {},
   "source": [
    "As a sanity check, we can show that the total mass is roughly conserved."
   ]
  },
  {
   "cell_type": "code",
   "execution_count": null,
   "metadata": {},
   "outputs": [],
   "source": [
    "print(firedrake.assemble(q0 * dx))\n",
    "print(firedrake.assemble(q * dx))"
   ]
  },
  {
   "cell_type": "markdown",
   "metadata": {},
   "source": [
    "The total variation, on the other hand, appears to be increasing, which I think is bad?\n",
    "\n",
    "...Is Randy here?"
   ]
  },
  {
   "cell_type": "code",
   "execution_count": null,
   "metadata": {},
   "outputs": [],
   "source": [
    "tv = sqrt(inner(grad(q), grad(q))) * dx + abs(q('+') - q('-')) * dS\n",
    "\n",
    "print(firedrake.assemble(replace(tv, {q: q0})))\n",
    "print(firedrake.assemble(tv))"
   ]
  }
 ],
 "metadata": {
  "kernelspec": {
   "display_name": "firedrake",
   "language": "python",
   "name": "firedrake"
  },
  "language_info": {
   "codemirror_mode": {
    "name": "ipython",
    "version": 3
   },
   "file_extension": ".py",
   "mimetype": "text/x-python",
   "name": "python",
   "nbconvert_exporter": "python",
   "pygments_lexer": "ipython3",
   "version": "3.7.3"
  }
 },
 "nbformat": 4,
 "nbformat_minor": 2
}
